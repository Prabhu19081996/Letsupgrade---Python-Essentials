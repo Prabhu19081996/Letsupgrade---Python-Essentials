{
 "cells": [
  {
   "cell_type": "code",
   "execution_count": 5,
   "metadata": {},
   "outputs": [
    {
     "name": "stdout",
     "output_type": "stream",
     "text": [
      "Enter any no:6000\n",
      "Go around and try later\n"
     ]
    }
   ],
   "source": [
    "x = int(input(\"Enter any no:\"))\n",
    "if x < 1000:\n",
    "    print(\"Tell pilot to land the plane\")\n",
    "elif x > 1000 and x < 5000:\n",
    "    print(\"come down to 1000ft\")\n",
    "elif x > 5000:\n",
    "    print(\"Go around and try later\")\n"
   ]
  },
  {
   "cell_type": "code",
   "execution_count": null,
   "metadata": {},
   "outputs": [],
   "source": []
  },
  {
   "cell_type": "code",
   "execution_count": null,
   "metadata": {},
   "outputs": [],
   "source": []
  }
 ],
 "metadata": {
  "kernelspec": {
   "display_name": "Python 3",
   "language": "python",
   "name": "python3"
  },
  "language_info": {
   "codemirror_mode": {
    "name": "ipython",
    "version": 3
   },
   "file_extension": ".py",
   "mimetype": "text/x-python",
   "name": "python",
   "nbconvert_exporter": "python",
   "pygments_lexer": "ipython3",
   "version": "3.8.3"
  }
 },
 "nbformat": 4,
 "nbformat_minor": 4
}
